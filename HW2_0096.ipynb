{
  "nbformat": 4,
  "nbformat_minor": 0,
  "metadata": {
    "colab": {
      "provenance": [],
      "toc_visible": true
    },
    "kernelspec": {
      "name": "python3",
      "display_name": "Python 3"
    },
    "language_info": {
      "name": "python"
    }
  },
  "cells": [
    {
      "cell_type": "markdown",
      "metadata": {
        "id": "WulpMZvqNEzA"
      },
      "source": [
        "# Lab 2 Statments, variables, datatypes, and operators\n",
        "\n",
        "Objectives:\n",
        "\n",
        "1. Learn how to name, declare and assign value to a variable.\n",
        "2. Learn how to use operators of different datatypes."
      ]
    },
    {
      "cell_type": "markdown",
      "metadata": {
        "id": "9jCAOWEAujB5"
      },
      "source": [
        "# Variables\n",
        "variables are used to store data"
      ]
    },
    {
      "cell_type": "markdown",
      "metadata": {
        "id": "t08kZJWVNkJc"
      },
      "source": [
        "**Variable naming rules**\n",
        "1. Can only contain alpha-numeric characters and underscores\n",
        "A-z, 0-9, and _\n",
        "2. Must start with a letter or the underscore character.\n",
        "3. Must not start with a number.\n",
        "4. Are case-sensitive (age, Age and AGE are three different variables)\n",
        "5. Not conflict with any Python keywords"
      ]
    },
    {
      "cell_type": "code",
      "metadata": {
        "id": "jAB_kZncL2tO"
      },
      "source": [
        "\n",
        "import numpy as np\n",
        "import keyword\n",
        "np.reshape(keyword.kwlist, (5, 7))"
      ],
      "execution_count": null,
      "outputs": []
    },
    {
      "cell_type": "code",
      "metadata": {
        "id": "QZwaJvmLOtAy"
      },
      "source": [
        "variable_1 = 20"
      ],
      "execution_count": null,
      "outputs": []
    },
    {
      "cell_type": "code",
      "metadata": {
        "id": "pgSSLEtDJv40"
      },
      "source": [
        "test-1 = 20"
      ],
      "execution_count": null,
      "outputs": []
    },
    {
      "cell_type": "code",
      "metadata": {
        "id": "0shFkioYOz53"
      },
      "source": [
        "1_variable = 10"
      ],
      "execution_count": null,
      "outputs": []
    },
    {
      "cell_type": "markdown",
      "metadata": {
        "id": "mrlFi4qGPQba"
      },
      "source": [
        "**Exercise #:** Which one of the following is invalid for variable name?\n",
        "\n",
        "var_1, _var1, 1_var, 111, for, var#1\n"
      ]
    },
    {
      "cell_type": "markdown",
      "metadata": {
        "id": "ivUz93IAIUg6"
      },
      "source": [
        "**Variable assignment**\n",
        "Python variables do not need explicit declaration to reserve memory space. A data value is assigned to the targeted variable using its name via equal sign (=) as  an assignment operator. To a the value to a variable, the name of variable name is on the left and the assigned value is on the right\n",
        "\n",
        "1. Assign a value to the variable\n",
        "        a = 20\n",
        "        print(a)\n",
        "        print(type(a))\n",
        "2. Assign the same value to multiple variables\n",
        "        a = b = 20\n",
        "        print(a)\n",
        "        print(b)\n",
        "3. Assign multiple value to multiple variables\n",
        "        a, b = 20, 30\n",
        "        print(a)\n",
        "        print(b)\n"
      ]
    },
    {
      "cell_type": "code",
      "metadata": {
        "colab": {
          "base_uri": "https://localhost:8080/"
        },
        "id": "JWUvW-RIIRLg",
        "outputId": "df32a1a9-236a-42c5-d8b2-281a71b1de10"
      },
      "source": [
        "        a = 20\n",
        "        print(a)\n",
        "        print(type(a))"
      ],
      "execution_count": null,
      "outputs": [
        {
          "output_type": "stream",
          "text": [
            "20\n",
            "<class 'int'>\n"
          ],
          "name": "stdout"
        }
      ]
    },
    {
      "cell_type": "code",
      "metadata": {
        "colab": {
          "base_uri": "https://localhost:8080/"
        },
        "id": "qrhd4x-yX_sI",
        "outputId": "44e4e630-c978-4ebf-b404-3b8532f18f00"
      },
      "source": [
        "a = 20\n",
        "print(type(a))\n",
        "a = 'test'\n",
        "print(type(a))"
      ],
      "execution_count": null,
      "outputs": [
        {
          "output_type": "stream",
          "text": [
            "<class 'int'>\n",
            "<class 'str'>\n"
          ],
          "name": "stdout"
        }
      ]
    },
    {
      "cell_type": "code",
      "metadata": {
        "colab": {
          "base_uri": "https://localhost:8080/"
        },
        "id": "rBlo_jQcx5GH",
        "outputId": "4952db2e-4afb-4545-c2d6-ae7c24bba1f5"
      },
      "source": [
        "        students_dict = {'1001':'Bobs','1008':'Delan','1010':'Doe'}\n",
        "        print(type(students_dict))"
      ],
      "execution_count": null,
      "outputs": [
        {
          "output_type": "stream",
          "text": [
            "<class 'dict'>\n"
          ],
          "name": "stdout"
        }
      ]
    },
    {
      "cell_type": "markdown",
      "metadata": {
        "id": "MeOgVIlPVdkj"
      },
      "source": [
        "**3. Sequences**\n",
        "\n",
        "*   String is a sequence of characters. This datatype often use to handle text formated data. Single quote or double quote can be used to create a string within one-line, and tripple quote is used to create a string across multiple line.\n",
        "\n",
        "        str_name = \"John\"\n",
        "        str_surname = 'Doh'\n",
        "        str_description = '''Single quote or double quote can be used to create a string within one-line,\n",
        "        and tripple quote is used to create a string across multiple line.'''\n",
        "\n",
        "*   List is a sequence of mutable objects. List operators are the following\n",
        "\n",
        "  - Creating list:\n",
        "\n",
        "          name_list = ['Bobs','Alice','john']\n",
        "\n",
        "  - Accessing the object in list:\n",
        "          name_list[0]\n",
        "\n",
        "   - Deleting the object in list:\n",
        "          del name_list[0]\n",
        "\n",
        "   - Updating the object in list\n",
        "          name_list[0] = 'New user'\n",
        "   - Adding an object to the list:\n",
        "\n",
        "          name_list.append(‘Napa’)\n",
        "    - Determine the number of objects in list: len()\n",
        "          len(name_list)\n",
        "\n",
        "*   Tuple is a sequence of immutable objects (allowing faster execution). Tuple operators are the following\n",
        "\n",
        "  - Creating list:\n",
        "\n",
        "          name_tuple = ('Bobs','Alice','john')\n",
        "\n",
        "  - Accessing the object in list:\n",
        "          name_tuple[0]\n",
        "  - Determine the number of objects in list: len()\n",
        "          len(name_tuple)\n",
        "\n",
        "  "
      ]
    },
    {
      "cell_type": "code",
      "metadata": {
        "colab": {
          "base_uri": "https://localhost:8080/"
        },
        "id": "4dsg1TMmrKfQ",
        "outputId": "dd399b60-0e4b-4fe6-e974-1d127c27d278"
      },
      "source": [
        "str_name = \"John\"\n",
        "str_surname = 'Doh'\n",
        "str_description = '''Single quote or double quote can be used to\n",
        "  create a string within one-line, and tripple quote is used to create\n",
        "  a string across multiple line.'''\n",
        "print(str_name)\n",
        "print(str_name[0])\n",
        "print(str_description)"
      ],
      "execution_count": null,
      "outputs": [
        {
          "output_type": "stream",
          "text": [
            "John\n",
            "J\n",
            "Single quote or double quote can be used to \n",
            "  create a string within one-line, and tripple quote is used to create \n",
            "  a string across multiple line.\n"
          ],
          "name": "stdout"
        }
      ]
    },
    {
      "cell_type": "code",
      "metadata": {
        "colab": {
          "base_uri": "https://localhost:8080/"
        },
        "id": "Mk2xF0_2wKoR",
        "outputId": "9ce7dab9-71f3-4c70-f8ad-1e5e57dbaefb"
      },
      "source": [
        "my_age = 25.5\n",
        "print(\"I am %.2f years old\" % my_age)\n"
      ],
      "execution_count": null,
      "outputs": [
        {
          "output_type": "stream",
          "text": [
            "I am 25.50 years old\n"
          ],
          "name": "stdout"
        }
      ]
    },
    {
      "cell_type": "code",
      "metadata": {
        "colab": {
          "base_uri": "https://localhost:8080/"
        },
        "id": "KjLUMwcw80jV",
        "outputId": "7c9c7ced-81f3-4cb6-b0a5-cfc94bb4fd54"
      },
      "source": [
        "thisdict = {\n",
        "  \"brand\": \"Ford\",\n",
        "  \"model\": \"Mustang\",\n",
        "  \"year\": 1964\n",
        "}\n",
        "thisdict['color'] = 'yellow'\n",
        "thisdict.update({'color': 'yellow1'})\n",
        "thisdict['color'] = 'red'\n",
        "\n",
        "print(thisdict)"
      ],
      "execution_count": null,
      "outputs": [
        {
          "output_type": "stream",
          "text": [
            "{'brand': 'Ford', 'model': 'Mustang', 'year': 1964, 'color': 'red'}\n"
          ],
          "name": "stdout"
        }
      ]
    },
    {
      "cell_type": "markdown",
      "metadata": {
        "id": "6cKldx__BRX9"
      },
      "source": [
        "**Exercise #:** Write code to create a collection variable named carCollection with 5 member: 'Benz', 'Honda', 'Toyota', 'BMW', 'MG' with the following datatypes:\n",
        " 1. set\n",
        " 2. tuple\n",
        " 3. list\n"
      ]
    },
    {
      "cell_type": "code",
      "metadata": {
        "colab": {
          "base_uri": "https://localhost:8080/"
        },
        "id": "jCiMxiLGBFhZ",
        "outputId": "28593dea-acd0-4302-8496-af169d36ebde"
      },
      "source": [
        "carCollection = []\n",
        "# 1. set\n",
        "\n",
        "print('1. ',type(carCollection))\n",
        "# 2. tuple\n",
        "\n",
        "print('2. ',type(carCollection))\n",
        "# 3. list\n",
        "\n",
        "print('3. ',type(carCollection))"
      ],
      "execution_count": null,
      "outputs": [
        {
          "output_type": "stream",
          "text": [
            "1.  <class 'list'>\n",
            "2.  <class 'list'>\n",
            "3.  <class 'list'>\n"
          ],
          "name": "stdout"
        }
      ]
    },
    {
      "cell_type": "markdown",
      "metadata": {
        "id": "2K7Sa_8MQ4th"
      },
      "source": [
        "# Python statement#\n"
      ]
    },
    {
      "cell_type": "markdown",
      "metadata": {
        "id": "4MKLWeDWTdjA"
      },
      "source": [
        "Usually, there is one python statement per line -- no need for semicolon in this case.\n",
        "      z = 20+31\n",
        "      b = z+ 52\n",
        "      print('z = ',z)    \n",
        "\n",
        "1. Multiple line statement: For a long statement, it can be put across multiple lines by:\n",
        "- put \\ at the end of *to be continued* statement\n",
        "- if the statement contains any type of parenthesese, the statement continues across lines until the closing parenthesis has been reached."
      ]
    },
    {
      "cell_type": "code",
      "metadata": {
        "id": "yvJohKEiwXKB"
      },
      "source": [
        "x = 1 + 2 \\\n",
        "+ 3 + 4 \\\n",
        "+ 5 + 6\n",
        "print(x)"
      ],
      "execution_count": null,
      "outputs": []
    },
    {
      "cell_type": "code",
      "metadata": {
        "id": "pVdX7EAObSeX"
      },
      "source": [
        "mylist = [\"apple\",\n",
        "          \"banana\", \"cherry\"]\n",
        "print(name_list1)"
      ],
      "execution_count": null,
      "outputs": []
    },
    {
      "cell_type": "code",
      "metadata": {
        "id": "TX4b2NDxbDR-"
      },
      "source": [
        "name_list1 = [\"Bobs\",\n",
        "              \"Jane\",\n",
        "              \"John\"]\n",
        "print(name_list1)"
      ],
      "execution_count": null,
      "outputs": []
    },
    {
      "cell_type": "markdown",
      "metadata": {
        "id": "Jo2JAWOi9Hq_"
      },
      "source": [
        "2. Multiple statements per line: Also, multiple statements can be put in a single line and they are seperated by semicolon ;.\n"
      ]
    },
    {
      "cell_type": "code",
      "metadata": {
        "id": "gdcJmTenibKF"
      },
      "source": [
        "age = 20; gender = 'Male'"
      ],
      "execution_count": null,
      "outputs": []
    },
    {
      "cell_type": "markdown",
      "metadata": {
        "id": "JJiIjXPOQHNM"
      },
      "source": [
        "# User input#\n"
      ]
    },
    {
      "cell_type": "markdown",
      "metadata": {
        "id": "OoTYFJHHwHGr"
      },
      "source": [
        "Input method can be used to retrieve input from users and store in assigned (string) variable.\n",
        "1. One input per statement\n",
        "\t  \n",
        "    #syntax: <variable> = input(‘Prompt statement: ’)  \n",
        "        fruit_name = input(‘Please enter your favorite fruit’)\n",
        "\n",
        "2. Multiple input per statement\n"
      ]
    },
    {
      "cell_type": "code",
      "metadata": {
        "colab": {
          "base_uri": "https://localhost:8080/"
        },
        "id": "kpST0Mcmun64",
        "outputId": "c37eeca0-5474-4310-d8c9-d1cd8be97a59"
      },
      "source": [
        "#One input per statement\n",
        "fruit_name = input('Please enter your favorite fruit: ')\n",
        "print('user input is: ',fruit_name)"
      ],
      "execution_count": null,
      "outputs": [
        {
          "output_type": "stream",
          "text": [
            "Please enter your favorite fruit: apple\n",
            "user input is:  apple\n"
          ],
          "name": "stdout"
        }
      ]
    },
    {
      "cell_type": "code",
      "source": [
        "age = input('Please enter your age :')\n",
        "type(age)"
      ],
      "metadata": {
        "colab": {
          "base_uri": "https://localhost:8080/"
        },
        "id": "ArDihcd7YLhR",
        "outputId": "fc0ef464-1aca-4e2f-a4db-df0c19708cc8"
      },
      "execution_count": null,
      "outputs": [
        {
          "name": "stdout",
          "output_type": "stream",
          "text": [
            "Please enter your age :15\n"
          ]
        },
        {
          "output_type": "execute_result",
          "data": {
            "text/plain": [
              "str"
            ]
          },
          "metadata": {},
          "execution_count": 3
        }
      ]
    },
    {
      "cell_type": "code",
      "metadata": {
        "colab": {
          "base_uri": "https://localhost:8080/"
        },
        "id": "yV5qKhSmvSX4",
        "outputId": "57a5c45f-a328-4351-f652-b6119ad62f93"
      },
      "source": [
        "#Multiple input per statement\n",
        "fruit1, fruit2 = input('Please enter your two favorite fruits:' ).split()\n",
        "print('the first input is: ' ,fruit1)\n",
        "print('the second input is: ' ,fruit2)"
      ],
      "execution_count": null,
      "outputs": [
        {
          "output_type": "stream",
          "text": [
            "Please enter your two favorite fruits:apple banana\n",
            "the first input is:  apple\n",
            "the second input is:  banana\n"
          ],
          "name": "stdout"
        }
      ]
    },
    {
      "cell_type": "code",
      "source": [
        "num1, num2 = input('Please enter your two favorite numbers:' ).split()\n",
        "print('the first input is: ' ,num1, type(num1))\n",
        "print('the second input is: ' ,num2, type(num2))"
      ],
      "metadata": {
        "colab": {
          "base_uri": "https://localhost:8080/"
        },
        "id": "oq593ixhYoR6",
        "outputId": "30745f67-5356-46f1-cb42-e3a380abbaf4"
      },
      "execution_count": null,
      "outputs": [
        {
          "output_type": "stream",
          "name": "stdout",
          "text": [
            "Please enter your two favorite numbers:15 47\n",
            "the first input is:  15 <class 'str'>\n",
            "the second input is:  47 <class 'str'>\n"
          ]
        }
      ]
    },
    {
      "cell_type": "code",
      "source": [
        "num1, num2 = input('Please enter your two favorite numbers:' ).split(',')\n",
        "print('the first input is: ' ,int(num1), type(num1))\n",
        "print('the second input is: ' ,int(num2), type(num2))"
      ],
      "metadata": {
        "colab": {
          "base_uri": "https://localhost:8080/"
        },
        "id": "4Reh4df78Ia5",
        "outputId": "87703b7b-5649-4106-aff1-abc3a6c64002"
      },
      "execution_count": null,
      "outputs": [
        {
          "output_type": "stream",
          "name": "stdout",
          "text": [
            "Please enter your two favorite numbers:12,15\n",
            "the first input is:  12 <class 'str'>\n",
            "the second input is:  15 <class 'str'>\n"
          ]
        }
      ]
    },
    {
      "cell_type": "markdown",
      "metadata": {
        "id": "ZS_Y14k11lwo"
      },
      "source": [
        "# Question 1 (4 pt)\n",
        "Write code to convert between Celsius, Kelvin, and Fahrenheit\n",
        "- take Celsius as an input and compute Fahrenheit and kelvin as output\n",
        "\n",
        "- take kelvin as an input and compute Fahrenheit and Celsius as output\n",
        "\n",
        "- take Fahrenheit as an input and compute kelvin and Celsius as output\n",
        "\n",
        "  https://en.wikipedia.org/wiki/Fahrenheit\n"
      ]
    },
    {
      "cell_type": "code",
      "metadata": {
        "colab": {
          "base_uri": "https://localhost:8080/"
        },
        "id": "H82esS5h4IJ0",
        "outputId": "f0a7c929-a4fb-4f57-ad0e-5bd0de4df5cf"
      },
      "source": [
        "#take Celsius as an input and compute Fahrenheit and kelvin as output\n",
        "celsius = int(input(\"Celsius = \"))\n",
        "#\n",
        "\n",
        "fahrenheit = celsius *9/5 + 32\n",
        "kelvin = celsius + 273.15\n",
        "\n",
        "print(celsius, 'C = ' , fahrenheit, ' F')\n",
        "print(celsius, 'C = ' , kelvin, ' K')\n"
      ],
      "execution_count": 5,
      "outputs": [
        {
          "output_type": "stream",
          "name": "stdout",
          "text": [
            "Celsius = 50\n",
            "50 C =  122.0  F\n",
            "50 C =  323.15  K\n"
          ]
        }
      ]
    },
    {
      "cell_type": "code",
      "metadata": {
        "id": "xYfd5iIai_Di",
        "colab": {
          "base_uri": "https://localhost:8080/"
        },
        "outputId": "8f33352d-e9bc-40b3-90a2-ddfeb775ceda"
      },
      "source": [
        "#take kelvin as an input and compute Fahrenheit and Celsius as output\n",
        "kelvin = int(input(\"Kelvin = \"))\n",
        "#\n",
        "\n",
        "fahrenheit = (kelvin - 273.15) * 9/5 + 32\n",
        "celsius = kelvin - 273.15\n",
        "\n",
        "print(kelvin, 'K = ' , fahrenheit, ' F')\n",
        "print(kelvin, 'K = ' , celsius, ' C')"
      ],
      "execution_count": 16,
      "outputs": [
        {
          "output_type": "stream",
          "name": "stdout",
          "text": [
            "Kelvin = 50\n",
            "50 K =  -369.66999999999996  F\n",
            "50 K =  -223.14999999999998  C\n"
          ]
        }
      ]
    },
    {
      "cell_type": "code",
      "metadata": {
        "id": "cj7MSECHjAno",
        "colab": {
          "base_uri": "https://localhost:8080/"
        },
        "outputId": "d49fda6f-587f-4231-c382-e84b82f58da1"
      },
      "source": [
        "#take Fahrenheit as an input and compute kelvin and Celsius as output\n",
        "fahrenheit = int(input(\"Fahrenheit = \"))\n",
        "#\n",
        "\n",
        "kelvin = (fahrenheit - 32) * 5/9 + 273.15\n",
        "celsius = (fahrenheit - 32) * 5/9\n",
        "\n",
        "print(fahrenheit, 'F = ' , kelvin, ' K')\n",
        "print(fahrenheit, 'F = ' , celsius, ' C')"
      ],
      "execution_count": 18,
      "outputs": [
        {
          "output_type": "stream",
          "name": "stdout",
          "text": [
            "Fahrenheit = 50\n",
            "50 F =  283.15  K\n",
            "50 F =  10.0  C\n"
          ]
        }
      ]
    },
    {
      "cell_type": "markdown",
      "metadata": {
        "id": "JyVOomaIpqKc"
      },
      "source": [
        "#Question 2 (2pt)\n",
        "Write a code to accept 4 number (can be positive and negative) and compute the following\n",
        "1. sum of all 4 numbers.\n",
        "2. average of all 4 numbers.\n",
        "\n",
        "**Examples:**\n",
        "```\n",
        "Input: 1, -18, 15, -8\n",
        "The sum of all 4 numbers: -10\n",
        "The average of all numbers: -2.5\n",
        "```\n",
        "\n",
        "\n"
      ]
    },
    {
      "cell_type": "code",
      "source": [
        "inp1 = float(input(\"Input: \"))\n",
        "inp2 = float(input(\"Input: \"))\n",
        "inp3 = float(input(\"Input: \"))\n",
        "inp4 = float(input(\"Input: \"))\n",
        "\n",
        "\n",
        "total_sum = inp1 + inp2 + inp3 + inp4\n",
        "\n",
        "\n",
        "average = total_sum / 4\n",
        "\n",
        "\n",
        "print(f\"The sum of all 4 numbers: {total_sum}\")\n",
        "print(f\"The average of all numbers: {average}\")\n"
      ],
      "metadata": {
        "colab": {
          "base_uri": "https://localhost:8080/"
        },
        "id": "Nq6hUtSLdubq",
        "outputId": "62e0f4a1-6acd-4b64-9a49-cf360d4cf31d"
      },
      "execution_count": 24,
      "outputs": [
        {
          "output_type": "stream",
          "name": "stdout",
          "text": [
            "Input: 1\n",
            "Input: -18\n",
            "Input: 15\n",
            "Input: -8\n",
            "The sum of all 4 numbers: -10.0\n",
            "The average of all numbers: -2.5\n"
          ]
        }
      ]
    },
    {
      "cell_type": "markdown",
      "source": [
        "#Question 3 (2pt)\n",
        "\n",
        "Write a code to accept width and height of a rectangle and compute\n",
        "1. Perimeter\n",
        "2. Area\n",
        "\n",
        "**Examples:**\n",
        "```\n",
        "Width and Height of this rectangle: 12.5, 15.5\n",
        "Perimeter of this rectangle: 56\n",
        "Area of this rectangle: 193.75\n",
        "```\n"
      ],
      "metadata": {
        "id": "QzzTqyZ9VjMo"
      }
    },
    {
      "cell_type": "code",
      "source": [
        "width = float(input(\"width of this rectangle: \"))\n",
        "height = float(input(\"height of this rectangle: \"))\n",
        "\n",
        "\n",
        "perimeter = 2 * (width + height)\n",
        "\n",
        "\n",
        "area = width * height\n",
        "\n",
        "\n",
        "print(f\"Perimeter of this rectangle: {perimeter}\")\n",
        "print(f\"Area of this rectangle: {area}\")\n"
      ],
      "metadata": {
        "colab": {
          "base_uri": "https://localhost:8080/"
        },
        "id": "xwNoOj23fUDJ",
        "outputId": "be4d85b9-f712-4c7e-ed58-2f78c78e7557"
      },
      "execution_count": 25,
      "outputs": [
        {
          "output_type": "stream",
          "name": "stdout",
          "text": [
            "width of this rectangle: 12.5\n",
            "height of this rectangle: 15.5\n",
            "Perimeter of this rectangle: 56.0\n",
            "Area of this rectangle: 193.75\n"
          ]
        }
      ]
    },
    {
      "cell_type": "markdown",
      "source": [
        "#Question 4 (2pt)\n",
        "\n",
        "Write a code to accept three number and output\n",
        "* whether the first number is the greatest\n",
        "* whether the second number is the greatest\n",
        "* whether the third number is the greatest\n",
        "\n",
        "\n",
        "**Examples:**\n",
        "```\n",
        "Enter three number: 10 , 55, 54\n",
        "The first number is the greathest: False\n",
        "The second number is the greathest: True\n",
        "The third number is the greathest: False\n",
        "```\n",
        "\n",
        "```\n",
        "Enter three number: 60 , 55, 54\n",
        "The first number is the greathest: True\n",
        "The second number is the greathest: False\n",
        "The third number is the greathest: False\n",
        "```\n",
        "\n",
        "```\n",
        "Enter three number: 60 , 55, 84\n",
        "The first number is the greathest: False\n",
        "The second number is the greathest: False\n",
        "The third number is the greathest: True\n",
        "```"
      ],
      "metadata": {
        "id": "nxl_pvsaOYkd"
      }
    },
    {
      "cell_type": "code",
      "source": [
        "var1, var2, var3 = input(\"Enter three number:\").split(',')\n",
        "var1 = int(var1)\n",
        "var2 = int(var2)\n",
        "var3 = int(var3)\n",
        "\n",
        "is_first_greatest = (var1>var2) and (var1>var3)\n",
        "print(\"The first number is the greathest: \", is_first_greatest)\n",
        "is_second_greatest = (var2>var1) and (var2>var3)\n",
        "print(\"The second number is the greathest: \", is_second_greatest)\n",
        "is_third_greatest = (var3>var1) and (var3>var2)\n",
        "print(\"The third number is the greathest: \", is_third_greatest)"
      ],
      "metadata": {
        "colab": {
          "base_uri": "https://localhost:8080/"
        },
        "id": "eqJ51rns0p7B",
        "outputId": "954aa7ab-f3fd-4078-cd66-e6a388ef5854"
      },
      "execution_count": 27,
      "outputs": [
        {
          "output_type": "stream",
          "name": "stdout",
          "text": [
            "Enter three number:60 , 55, 84\n",
            "The first number is the greathest:  False\n",
            "The second number is the greathest:  False\n",
            "The third number is the greathest:  True\n"
          ]
        }
      ]
    },
    {
      "cell_type": "code",
      "source": [],
      "metadata": {
        "id": "TTB2nfRhPwK8"
      },
      "execution_count": null,
      "outputs": []
    }
  ]
}