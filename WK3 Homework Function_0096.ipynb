{
  "nbformat": 4,
  "nbformat_minor": 0,
  "metadata": {
    "colab": {
      "provenance": []
    },
    "kernelspec": {
      "name": "python3",
      "display_name": "Python 3"
    },
    "language_info": {
      "name": "python"
    }
  },
  "cells": [
    {
      "cell_type": "code",
      "execution_count": 5,
      "metadata": {
        "colab": {
          "base_uri": "https://localhost:8080/"
        },
        "id": "qpbY7rrfX1Jf",
        "outputId": "6142646e-3213-4f7c-91db-d9b6526ce6f2"
      },
      "outputs": [
        {
          "output_type": "stream",
          "name": "stdout",
          "text": [
            "Please, Enter the Lowest Range Value: 2\n",
            "Please, Enter the Upper Range Value: 10\n",
            "The Prime Number in the range are:\n",
            "[2, 3, 5, 7]\n"
          ]
        }
      ],
      "source": [
        "def get_integer_range():\n",
        "    start = float(input(\"Please, Enter the Lowest Range Value: \"))\n",
        "    end = float(input(\"Please, Enter the Upper Range Value: \"))\n",
        "\n",
        "    start = int(start)\n",
        "    end = int(end)\n",
        "\n",
        "    return start, end\n",
        "\n",
        "\n",
        "def find_prime_numbers(start, end):\n",
        "    prime_numbers = []\n",
        "    for num in range(start, end + 1):\n",
        "        if num > 1:\n",
        "            for i in range(2, int(num ** 0.5) + 1):\n",
        "                if num % i == 0:\n",
        "                    break\n",
        "            else:\n",
        "                prime_numbers.append(num)\n",
        "    return prime_numbers\n",
        "\n",
        "\n",
        "start, end = get_integer_range()\n",
        "prime_numbers = find_prime_numbers(start, end)\n",
        "\n",
        "\n",
        "if len(prime_numbers) == 0:\n",
        "    print(f\"There is no Prime Number in the range {start} to {end}\")\n",
        "else:\n",
        "    print(f\"The Prime Number in the range are:\")\n",
        "    print(prime_numbers)\n"
      ]
    }
  ]
}