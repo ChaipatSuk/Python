{
  "nbformat": 4,
  "nbformat_minor": 0,
  "metadata": {
    "colab": {
      "provenance": []
    },
    "kernelspec": {
      "name": "python3",
      "display_name": "Python 3"
    },
    "language_info": {
      "name": "python"
    }
  },
  "cells": [
    {
      "cell_type": "markdown",
      "source": [
        "ชื่อ นาย ชัยพัฒน์ สุขบุญลือ รหัส 64109010096"
      ],
      "metadata": {
        "id": "X44SlqUXO5l1"
      }
    },
    {
      "cell_type": "markdown",
      "source": [
        "ข้อ 1."
      ],
      "metadata": {
        "id": "wZBgvJU5Xxj5"
      }
    },
    {
      "cell_type": "code",
      "source": [
        "list = [1,2,3,4,5,6]\n",
        "\n",
        "result = 0\n",
        "\n",
        "for i in range(len(list)):\n",
        "    if(list[i]%2!=0):\n",
        "      result +=list[i]**2\n",
        "\n",
        "print (\"Result = \",result)"
      ],
      "metadata": {
        "colab": {
          "base_uri": "https://localhost:8080/"
        },
        "id": "XFp1lWKKWQl0",
        "outputId": "c924e724-012b-4bcc-9fac-67fd3ec6d8c9"
      },
      "execution_count": 23,
      "outputs": [
        {
          "output_type": "stream",
          "name": "stdout",
          "text": [
            "Result =  35\n"
          ]
        }
      ]
    },
    {
      "cell_type": "markdown",
      "source": [
        "ข้อ 2."
      ],
      "metadata": {
        "id": "vOXGKakBX2S4"
      }
    },
    {
      "cell_type": "code",
      "execution_count": 4,
      "metadata": {
        "colab": {
          "base_uri": "https://localhost:8080/"
        },
        "id": "Agl_fmohV-en",
        "outputId": "5bdf0ca6-dc22-447e-b167-d69fbe70beab"
      },
      "outputs": [
        {
          "output_type": "stream",
          "name": "stdout",
          "text": [
            "Result K =  22\n"
          ]
        }
      ],
      "source": [
        "k = 0\n",
        "product = 1\n",
        "\n",
        "while product >= 0.5:\n",
        "    k += 1\n",
        "    product *= (365 - k) / 365\n",
        "\n",
        "print(\"Result K = \", k)\n",
        "\n"
      ]
    },
    {
      "cell_type": "markdown",
      "source": [
        "ข้อ 3."
      ],
      "metadata": {
        "id": "1OTYhZQ_X46L"
      }
    },
    {
      "cell_type": "code",
      "source": [
        "n = int(input())\n",
        "\n",
        "max_value = float('-inf')\n",
        "min_value = float('inf')\n",
        "\n",
        "negative_count = 0\n",
        "\n",
        "for _ in range(n):\n",
        "    num = int(input())\n",
        "    max_value = max(max_value, num)\n",
        "    min_value = min(min_value, num)\n",
        "    if num < 0:\n",
        "        negative_count += 1\n",
        "\n",
        "difference = max_value - min_value\n",
        "\n",
        "print(\"ผลต่าง:\", difference)\n",
        "print(\"จำนวนเลขลบ:\", negative_count)\n"
      ],
      "metadata": {
        "colab": {
          "base_uri": "https://localhost:8080/"
        },
        "id": "muYzkJJRQNCm",
        "outputId": "9263ac1c-d00d-497d-a074-86214edb1e07"
      },
      "execution_count": 12,
      "outputs": [
        {
          "output_type": "stream",
          "name": "stdout",
          "text": [
            "5\n",
            "4\n",
            "3\n",
            "2\n",
            "1\n",
            "0\n",
            "ผลต่าง: 4\n",
            "จำนวนเลขลบ: 0\n"
          ]
        }
      ]
    },
    {
      "cell_type": "markdown",
      "source": [
        "ข้อ 4."
      ],
      "metadata": {
        "id": "wHYlsiBSX8_p"
      }
    },
    {
      "cell_type": "code",
      "source": [
        "input_number = int(input())\n",
        "\n",
        "total = 0\n",
        "\n",
        "for num in range(input_number):\n",
        "    if num % 3 == 0 or num % 5 == 0:\n",
        "        total += num\n",
        "\n",
        "print(total)"
      ],
      "metadata": {
        "colab": {
          "base_uri": "https://localhost:8080/"
        },
        "id": "t35n9QapTATs",
        "outputId": "25c47cb8-614c-468d-fc8d-0728c6cb2048"
      },
      "execution_count": 17,
      "outputs": [
        {
          "output_type": "stream",
          "name": "stdout",
          "text": [
            "25\n",
            "143\n"
          ]
        }
      ]
    },
    {
      "cell_type": "markdown",
      "source": [
        "ข้อ 5."
      ],
      "metadata": {
        "id": "PV2kbfv4YCNF"
      }
    },
    {
      "cell_type": "code",
      "source": [
        "products = {}\n",
        "\n",
        "def display_bill(bill):\n",
        "    print(\"===== Bill =====\")\n",
        "    for item, price in bill.items():\n",
        "        print(f\"{item}: ${price:.2f}\")\n",
        "    print(\"================\")\n",
        "\n",
        "def calculate_total(bill):\n",
        "    return sum(bill.values())\n",
        "\n",
        "def handle_payment(total):\n",
        "    while True:\n",
        "        try:\n",
        "            amount_paid = float(input(\"Enter the amount paid: $\"))\n",
        "            if amount_paid < total:\n",
        "                print(\"Amount paid is less than the total. Please enter a valid amount.\")\n",
        "            else:\n",
        "                change = amount_paid - total\n",
        "                print(f\"Change: ${change:.2f}\")\n",
        "                break\n",
        "        except ValueError:\n",
        "            print(\"Invalid input. Please enter a valid amount.\")\n",
        "\n",
        "while True:\n",
        "    product_name = input(\"Enter product name (or 'done' to finish the bill): \")\n",
        "\n",
        "    if product_name.lower() == 'done':\n",
        "        break\n",
        "\n",
        "    try:\n",
        "        product_price = float(input(\"Enter product price: $\"))\n",
        "        products[product_name] = product_price\n",
        "    except ValueError:\n",
        "        print(\"Invalid input. Please enter a valid price.\")\n",
        "\n",
        "display_bill(products)\n",
        "\n",
        "total_price = calculate_total(products)\n",
        "print(f\"Total Price: ${total_price:.2f}\")\n",
        "\n",
        "handle_payment(total_price)\n",
        "\n",
        "print(\"Thank you for shopping! Exiting the program.\")\n"
      ],
      "metadata": {
        "colab": {
          "base_uri": "https://localhost:8080/"
        },
        "id": "M0rDW4iGURQO",
        "outputId": "0cea3db1-68d7-4037-8903-a515bf5ec8e6"
      },
      "execution_count": 19,
      "outputs": [
        {
          "output_type": "stream",
          "name": "stdout",
          "text": [
            "Enter product name (or 'done' to finish the bill): Fish\n",
            "Enter product price: $200\n",
            "Enter product name (or 'done' to finish the bill): done\n",
            "===== Bill =====\n",
            "Fish: $200.00\n",
            "================\n",
            "Total Price: $200.00\n",
            "Enter the amount paid: $300\n",
            "Change: $100.00\n",
            "Thank you for shopping! Exiting the program.\n"
          ]
        }
      ]
    }
  ]
}