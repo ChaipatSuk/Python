{
  "nbformat": 4,
  "nbformat_minor": 0,
  "metadata": {
    "kernelspec": {
      "display_name": "Python 3",
      "language": "python",
      "name": "python3"
    },
    "language_info": {
      "codemirror_mode": {
        "name": "ipython",
        "version": 3
      },
      "file_extension": ".py",
      "mimetype": "text/x-python",
      "name": "python",
      "nbconvert_exporter": "python",
      "pygments_lexer": "ipython3",
      "version": "3.7.3"
    },
    "colab": {
      "provenance": []
    }
  },
  "cells": [
    {
      "cell_type": "markdown",
      "metadata": {
        "_uuid": "2271cc0b6de047f6520b473221631a5e774f99ff",
        "id": "Mdq75eaILRAS"
      },
      "source": [
        "# Homework Data wrangling with Telco mini dataset\n",
        "\n",
        "Note เราจะใช้ข้อมูลที่ชื่อว่า telco_mini.csv\n",
        "\n",
        "ข้อไหนที่ตอบเป็น text อย่าลืมใส่ # ข้างหน้านะคะ\n",
        "\n",
        "เช่น # ตอบว่ามีหรือไม่มี  # ตอบว่า ไม่มี  เป็นต้น\n",
        "\n",
        "ให้รัน code ทุกบรรทัด การบ้านคะแนนเต็ม 10 คะแนน (ข้อละ 2 คะแนน)\n",
        "\n"
      ]
    },
    {
      "cell_type": "code",
      "metadata": {
        "_uuid": "dae7a1c63a7fa69acd11fa763f07d77e822731a2",
        "id": "OXsym1KrLRAT"
      },
      "source": [
        "%matplotlib inline\n",
        "import pandas as pd\n",
        "\n",
        "df = pd.read_csv('telco_mini.csv')"
      ],
      "execution_count": 7,
      "outputs": []
    },
    {
      "cell_type": "code",
      "source": [
        "df.head()"
      ],
      "metadata": {
        "id": "kdS3y8nFZCMn"
      },
      "execution_count": null,
      "outputs": []
    },
    {
      "cell_type": "code",
      "metadata": {
        "_uuid": "4c394d90a8a660b7a454062d0fcb791e8d137b57",
        "id": "wtuRb73eLRAa",
        "colab": {
          "base_uri": "https://localhost:8080/"
        },
        "outputId": "fd9a87c1-bd89-42bc-afea-141871bee86f"
      },
      "source": [
        "print(df.shape)"
      ],
      "execution_count": 3,
      "outputs": [
        {
          "output_type": "stream",
          "name": "stdout",
          "text": [
            "(50, 13)\n"
          ]
        }
      ]
    },
    {
      "cell_type": "markdown",
      "source": [
        "# Exercise 1\n",
        "จงใช้คำสั่ง .info เพื่อแสดงให้เห็นถึง datatype ของแต่ละ column ของ df"
      ],
      "metadata": {
        "id": "Zy1zrRs7YpG_"
      }
    },
    {
      "cell_type": "code",
      "metadata": {
        "_uuid": "4072cc64385d613b53c8c12b38a99fe7739f6ab9",
        "id": "PS5iO6ckLRAh",
        "colab": {
          "base_uri": "https://localhost:8080/"
        },
        "outputId": "54b83f2c-b7c7-4e7e-c637-80267c9f415e"
      },
      "source": [
        "#  your code here"
      ],
      "execution_count": 8,
      "outputs": [
        {
          "output_type": "stream",
          "name": "stdout",
          "text": [
            "<class 'pandas.core.frame.DataFrame'>\n",
            "RangeIndex: 50 entries, 0 to 49\n",
            "Data columns (total 13 columns):\n",
            " #   Column           Non-Null Count  Dtype  \n",
            "---  ------           --------------  -----  \n",
            " 0   customerID       50 non-null     object \n",
            " 1   Age              47 non-null     float64\n",
            " 2   gender           50 non-null     object \n",
            " 3   SeniorCitizen    50 non-null     object \n",
            " 4   Partner          50 non-null     object \n",
            " 5   PhoneService     50 non-null     object \n",
            " 6   InternetService  50 non-null     object \n",
            " 7   StreamingTV      50 non-null     object \n",
            " 8   Contract         50 non-null     object \n",
            " 9   PaymentMethod    50 non-null     object \n",
            " 10  MonthlyCharges   50 non-null     float64\n",
            " 11  TotalCharges     50 non-null     float64\n",
            " 12  Churn            50 non-null     object \n",
            "dtypes: float64(3), object(10)\n",
            "memory usage: 5.2+ KB\n"
          ]
        }
      ]
    },
    {
      "cell_type": "markdown",
      "source": [
        "มี column ใดที่มี datatype ไม่เหมาะสมหรือไม่ ถ้ามีให้แปลงเป็น datatype ที่เหมาะสม"
      ],
      "metadata": {
        "id": "k_I6g3xdY_Fk"
      }
    },
    {
      "cell_type": "code",
      "source": [
        "# ตอบว่า มีหรือไม่มี\n"
      ],
      "metadata": {
        "id": "72I7O3CoXBuc"
      },
      "execution_count": null,
      "outputs": []
    },
    {
      "cell_type": "markdown",
      "source": [
        "# Exercise 2\n",
        "จงใช้คำสั่ง .describe เพื่อแสดงให้เห็นถึงค่าสถิติ ของแต่ละ column ของ df ที่เป็น numerical data"
      ],
      "metadata": {
        "id": "E99V7nAQAz6L"
      }
    },
    {
      "cell_type": "code",
      "source": [
        "#  your code here\n"
      ],
      "metadata": {
        "colab": {
          "base_uri": "https://localhost:8080/",
          "height": 300
        },
        "id": "vBxNkXF_BFrk",
        "outputId": "9deeb37c-1280-456f-e4cd-8adab9830092"
      },
      "execution_count": 15,
      "outputs": [
        {
          "output_type": "execute_result",
          "data": {
            "text/plain": [
              "             Age  MonthlyCharges  TotalCharges\n",
              "count  50.000000       50.000000     50.000000\n",
              "mean   35.680800       67.244000   2320.679000\n",
              "std    15.680622       28.522323   2333.552125\n",
              "min    19.000000       18.950000     20.150000\n",
              "25%    27.000000       49.325000    305.650000\n",
              "50%    30.500000       67.675000   1685.675000\n",
              "75%    33.000000       94.187500   3817.337500\n",
              "max    84.000000      113.250000   7895.150000"
            ],
            "text/html": [
              "\n",
              "  <div id=\"df-e288d480-7923-40c9-ac25-4ed5ad6e1b8f\">\n",
              "    <div class=\"colab-df-container\">\n",
              "      <div>\n",
              "<style scoped>\n",
              "    .dataframe tbody tr th:only-of-type {\n",
              "        vertical-align: middle;\n",
              "    }\n",
              "\n",
              "    .dataframe tbody tr th {\n",
              "        vertical-align: top;\n",
              "    }\n",
              "\n",
              "    .dataframe thead th {\n",
              "        text-align: right;\n",
              "    }\n",
              "</style>\n",
              "<table border=\"1\" class=\"dataframe\">\n",
              "  <thead>\n",
              "    <tr style=\"text-align: right;\">\n",
              "      <th></th>\n",
              "      <th>Age</th>\n",
              "      <th>MonthlyCharges</th>\n",
              "      <th>TotalCharges</th>\n",
              "    </tr>\n",
              "  </thead>\n",
              "  <tbody>\n",
              "    <tr>\n",
              "      <th>count</th>\n",
              "      <td>50.000000</td>\n",
              "      <td>50.000000</td>\n",
              "      <td>50.000000</td>\n",
              "    </tr>\n",
              "    <tr>\n",
              "      <th>mean</th>\n",
              "      <td>35.680800</td>\n",
              "      <td>67.244000</td>\n",
              "      <td>2320.679000</td>\n",
              "    </tr>\n",
              "    <tr>\n",
              "      <th>std</th>\n",
              "      <td>15.680622</td>\n",
              "      <td>28.522323</td>\n",
              "      <td>2333.552125</td>\n",
              "    </tr>\n",
              "    <tr>\n",
              "      <th>min</th>\n",
              "      <td>19.000000</td>\n",
              "      <td>18.950000</td>\n",
              "      <td>20.150000</td>\n",
              "    </tr>\n",
              "    <tr>\n",
              "      <th>25%</th>\n",
              "      <td>27.000000</td>\n",
              "      <td>49.325000</td>\n",
              "      <td>305.650000</td>\n",
              "    </tr>\n",
              "    <tr>\n",
              "      <th>50%</th>\n",
              "      <td>30.500000</td>\n",
              "      <td>67.675000</td>\n",
              "      <td>1685.675000</td>\n",
              "    </tr>\n",
              "    <tr>\n",
              "      <th>75%</th>\n",
              "      <td>33.000000</td>\n",
              "      <td>94.187500</td>\n",
              "      <td>3817.337500</td>\n",
              "    </tr>\n",
              "    <tr>\n",
              "      <th>max</th>\n",
              "      <td>84.000000</td>\n",
              "      <td>113.250000</td>\n",
              "      <td>7895.150000</td>\n",
              "    </tr>\n",
              "  </tbody>\n",
              "</table>\n",
              "</div>\n",
              "      <button class=\"colab-df-convert\" onclick=\"convertToInteractive('df-e288d480-7923-40c9-ac25-4ed5ad6e1b8f')\"\n",
              "              title=\"Convert this dataframe to an interactive table.\"\n",
              "              style=\"display:none;\">\n",
              "        \n",
              "  <svg xmlns=\"http://www.w3.org/2000/svg\" height=\"24px\"viewBox=\"0 0 24 24\"\n",
              "       width=\"24px\">\n",
              "    <path d=\"M0 0h24v24H0V0z\" fill=\"none\"/>\n",
              "    <path d=\"M18.56 5.44l.94 2.06.94-2.06 2.06-.94-2.06-.94-.94-2.06-.94 2.06-2.06.94zm-11 1L8.5 8.5l.94-2.06 2.06-.94-2.06-.94L8.5 2.5l-.94 2.06-2.06.94zm10 10l.94 2.06.94-2.06 2.06-.94-2.06-.94-.94-2.06-.94 2.06-2.06.94z\"/><path d=\"M17.41 7.96l-1.37-1.37c-.4-.4-.92-.59-1.43-.59-.52 0-1.04.2-1.43.59L10.3 9.45l-7.72 7.72c-.78.78-.78 2.05 0 2.83L4 21.41c.39.39.9.59 1.41.59.51 0 1.02-.2 1.41-.59l7.78-7.78 2.81-2.81c.8-.78.8-2.07 0-2.86zM5.41 20L4 18.59l7.72-7.72 1.47 1.35L5.41 20z\"/>\n",
              "  </svg>\n",
              "      </button>\n",
              "      \n",
              "  <style>\n",
              "    .colab-df-container {\n",
              "      display:flex;\n",
              "      flex-wrap:wrap;\n",
              "      gap: 12px;\n",
              "    }\n",
              "\n",
              "    .colab-df-convert {\n",
              "      background-color: #E8F0FE;\n",
              "      border: none;\n",
              "      border-radius: 50%;\n",
              "      cursor: pointer;\n",
              "      display: none;\n",
              "      fill: #1967D2;\n",
              "      height: 32px;\n",
              "      padding: 0 0 0 0;\n",
              "      width: 32px;\n",
              "    }\n",
              "\n",
              "    .colab-df-convert:hover {\n",
              "      background-color: #E2EBFA;\n",
              "      box-shadow: 0px 1px 2px rgba(60, 64, 67, 0.3), 0px 1px 3px 1px rgba(60, 64, 67, 0.15);\n",
              "      fill: #174EA6;\n",
              "    }\n",
              "\n",
              "    [theme=dark] .colab-df-convert {\n",
              "      background-color: #3B4455;\n",
              "      fill: #D2E3FC;\n",
              "    }\n",
              "\n",
              "    [theme=dark] .colab-df-convert:hover {\n",
              "      background-color: #434B5C;\n",
              "      box-shadow: 0px 1px 3px 1px rgba(0, 0, 0, 0.15);\n",
              "      filter: drop-shadow(0px 1px 2px rgba(0, 0, 0, 0.3));\n",
              "      fill: #FFFFFF;\n",
              "    }\n",
              "  </style>\n",
              "\n",
              "      <script>\n",
              "        const buttonEl =\n",
              "          document.querySelector('#df-e288d480-7923-40c9-ac25-4ed5ad6e1b8f button.colab-df-convert');\n",
              "        buttonEl.style.display =\n",
              "          google.colab.kernel.accessAllowed ? 'block' : 'none';\n",
              "\n",
              "        async function convertToInteractive(key) {\n",
              "          const element = document.querySelector('#df-e288d480-7923-40c9-ac25-4ed5ad6e1b8f');\n",
              "          const dataTable =\n",
              "            await google.colab.kernel.invokeFunction('convertToInteractive',\n",
              "                                                     [key], {});\n",
              "          if (!dataTable) return;\n",
              "\n",
              "          const docLinkHtml = 'Like what you see? Visit the ' +\n",
              "            '<a target=\"_blank\" href=https://colab.research.google.com/notebooks/data_table.ipynb>data table notebook</a>'\n",
              "            + ' to learn more about interactive tables.';\n",
              "          element.innerHTML = '';\n",
              "          dataTable['output_type'] = 'display_data';\n",
              "          await google.colab.output.renderOutput(dataTable, element);\n",
              "          const docLink = document.createElement('div');\n",
              "          docLink.innerHTML = docLinkHtml;\n",
              "          element.appendChild(docLink);\n",
              "        }\n",
              "      </script>\n",
              "    </div>\n",
              "  </div>\n",
              "  "
            ]
          },
          "metadata": {},
          "execution_count": 15
        }
      ]
    },
    {
      "cell_type": "markdown",
      "source": [
        "# Exercise 3\n",
        "จงแสดงให้เห็นว่าแต่ละ column มีจำนวน missing data หรือ Nan อยู่กี่ข้อมูล"
      ],
      "metadata": {
        "id": "v-aO3slcfj-W"
      }
    },
    {
      "cell_type": "code",
      "source": [
        "# your code here\n"
      ],
      "metadata": {
        "id": "LdLwtzKfcAsQ"
      },
      "execution_count": null,
      "outputs": []
    },
    {
      "cell_type": "markdown",
      "source": [
        "# Exercise 4\n",
        "\n",
        "จงใช้คำสั่ง .mean() แสดงค่าเฉลี่ยของอายุของลูกค้าในชุดข้อมูลนี้"
      ],
      "metadata": {
        "id": "heiaPhp8hR6o"
      }
    },
    {
      "cell_type": "code",
      "source": [
        "# your code here\n"
      ],
      "metadata": {
        "id": "HlsGFbvbhF41",
        "colab": {
          "base_uri": "https://localhost:8080/"
        },
        "outputId": "997be59f-69d3-4ea5-ffd5-ba31c88aa0a6"
      },
      "execution_count": 11,
      "outputs": [
        {
          "output_type": "execute_result",
          "data": {
            "text/plain": [
              "35.680851063829785"
            ]
          },
          "metadata": {},
          "execution_count": 11
        }
      ]
    },
    {
      "cell_type": "markdown",
      "source": [
        "# Exercise 5\n",
        "\n",
        "จงใช้ข้อมูลค่าเฉลี่ยของกลุ่มลูกค้าเพื่อใช้ในการแก้ไข missing value"
      ],
      "metadata": {
        "id": "OO5vTRQcl3gA"
      }
    },
    {
      "cell_type": "code",
      "source": [
        "# your code here\n"
      ],
      "metadata": {
        "id": "w3R0rvLMkL6v"
      },
      "execution_count": 12,
      "outputs": []
    },
    {
      "cell_type": "code",
      "source": [
        "df.Age.isnull().sum()"
      ],
      "metadata": {
        "id": "Jr9HWI_QoHZg",
        "colab": {
          "base_uri": "https://localhost:8080/"
        },
        "outputId": "ea47ec7a-bad3-4036-c6aa-550e88378435"
      },
      "execution_count": 13,
      "outputs": [
        {
          "output_type": "execute_result",
          "data": {
            "text/plain": [
              "0"
            ]
          },
          "metadata": {},
          "execution_count": 13
        }
      ]
    },
    {
      "cell_type": "code",
      "source": [],
      "metadata": {
        "id": "7E2AnIVyok_P"
      },
      "execution_count": null,
      "outputs": []
    }
  ]
}