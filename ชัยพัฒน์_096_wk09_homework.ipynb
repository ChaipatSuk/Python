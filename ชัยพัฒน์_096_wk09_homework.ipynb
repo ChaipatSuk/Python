{
  "nbformat": 4,
  "nbformat_minor": 0,
  "metadata": {
    "colab": {
      "provenance": []
    },
    "kernelspec": {
      "name": "python3",
      "display_name": "Python 3"
    },
    "language_info": {
      "name": "python"
    }
  },
  "cells": [
    {
      "cell_type": "markdown",
      "source": [
        "นายชัยพัฒน์ สุขบุญลือ 64109010096"
      ],
      "metadata": {
        "id": "GjRRMT0FZhbj"
      }
    },
    {
      "cell_type": "markdown",
      "source": [
        "Q1 Calculate the multiplication of two matrices A*B , where \\\\\n",
        "$A=\\begin{bmatrix}\n",
        "1 & 2 & 3\\\\\n",
        "7 & 8 & 10\n",
        "\\end{bmatrix}$ and $B=\\begin{bmatrix}\n",
        "1 & 2 & 3\\\\\n",
        "2 & 1 & 4\\\\\n",
        "7 & 8 & 10\n",
        "\\end{bmatrix}$ \\\\\n",
        "\n",
        "\n",
        "1.   Using Numpy\n",
        "2.   Use basic Python to determine the multiplication\n",
        "\n",
        "\n"
      ],
      "metadata": {
        "id": "EHjOwMLhjMPc"
      }
    },
    {
      "cell_type": "code",
      "source": [
        "import numpy as np\n",
        "\n",
        "A = np.array([[1, 2, 3], [7, 8, 10]])\n",
        "B = np.array([[1, 2, 3], [2, 1, 4], [7, 8, 10]])\n",
        "\n",
        "result = np.dot(A, B)\n",
        "print(result)\n"
      ],
      "metadata": {
        "colab": {
          "base_uri": "https://localhost:8080/"
        },
        "id": "nVzKf3o_Xg1m",
        "outputId": "5c49fe00-d52c-458f-b2c0-d324ea54d630"
      },
      "execution_count": 7,
      "outputs": [
        {
          "output_type": "stream",
          "name": "stdout",
          "text": [
            "[[ 26  28  41]\n",
            " [ 93 102 153]]\n"
          ]
        }
      ]
    },
    {
      "cell_type": "code",
      "source": [
        "A = [[1, 2, 3], [7, 8, 10]]\n",
        "B = [[1, 2, 3], [2, 1, 4], [7, 8, 10]]\n",
        "\n",
        "# Initialize a result matrix with zeros\n",
        "result = [[0 for _ in range(len(B[0]))] for _ in range(len(A))]\n",
        "\n",
        "# Perform matrix multiplication\n",
        "for i in range(len(A)):\n",
        "    for j in range(len(B[0])):\n",
        "        for k in range(len(B)):\n",
        "            result[i][j] += A[i][k] * B[k][j]\n",
        "\n",
        "# Print the result\n",
        "for row in result:\n",
        "    print(row)\n"
      ],
      "metadata": {
        "colab": {
          "base_uri": "https://localhost:8080/"
        },
        "id": "mKadFSsfXKVd",
        "outputId": "836e1521-5f99-42c0-f14d-1f4cb307c00b"
      },
      "execution_count": 8,
      "outputs": [
        {
          "output_type": "stream",
          "name": "stdout",
          "text": [
            "[26, 28, 41]\n",
            "[93, 102, 153]\n"
          ]
        }
      ]
    },
    {
      "cell_type": "markdown",
      "source": [
        "Q2 Create the following dataset using pandas \\\\\n",
        "\n",
        "item|weight | temperature | Length\n",
        "-----|-----|------|---------\n",
        "1 |35      | 46 | 39\n",
        "2 |42       | 28 | 65\n",
        "3 |29 |35 |40\n",
        "4 |24 | 16| 19\n",
        "5 |38| 16|24\n",
        "\n",
        "Choose the rows that the items have less weight than 30"
      ],
      "metadata": {
        "id": "Wk8_Mufrrrd2"
      }
    },
    {
      "cell_type": "code",
      "source": [
        "import pandas as pd\n",
        "\n",
        "data = {\n",
        "    'item': [1, 2, 3, 4, 5],\n",
        "    'weight': [35, 42, 29, 24, 38],\n",
        "    'temperature': [46, 28, 35, 16, 16],\n",
        "    'length': [39, 65, 40, 19, 24]\n",
        "}\n",
        "\n",
        "df = pd.DataFrame(data)\n",
        "\n",
        "# Select rows where the weight is less than 30\n",
        "selected_rows = df[df['weight'] < 30]\n",
        "\n",
        "print(selected_rows)\n"
      ],
      "metadata": {
        "colab": {
          "base_uri": "https://localhost:8080/"
        },
        "id": "ZIkFRzpxYdJh",
        "outputId": "687229e9-057d-4822-9761-33e80635b69e"
      },
      "execution_count": 9,
      "outputs": [
        {
          "output_type": "stream",
          "name": "stdout",
          "text": [
            "   item  weight  temperature  length\n",
            "2     3      29           35      40\n",
            "3     4      24           16      19\n"
          ]
        }
      ]
    }
  ]
}