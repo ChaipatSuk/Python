{
  "nbformat": 4,
  "nbformat_minor": 0,
  "metadata": {
    "colab": {
      "provenance": []
    },
    "kernelspec": {
      "name": "python3",
      "display_name": "Python 3"
    },
    "language_info": {
      "name": "python"
    }
  },
  "cells": [
    {
      "cell_type": "markdown",
      "source": [
        "**Name:** Chaipat Sukboonlue\n",
        "\n",
        "**ID:** 64109010096\n",
        "\n",
        "**Date:** 23/09/2023"
      ],
      "metadata": {
        "id": "Gqb4b9qknvxo"
      }
    },
    {
      "cell_type": "markdown",
      "source": [
        "# Dictionary\n",
        "Solve 3 python dictionary questions"
      ],
      "metadata": {
        "id": "nzBPt4ttnqJM"
      }
    },
    {
      "cell_type": "markdown",
      "source": [
        "## Question#1:\n",
        "Write a program to check whether a given key exists in a dictionary or not\n",
        "\n",
        "**Hint**\n",
        "\n",
        "`Given capital_city = {\"Thailand\": \"Bangkok\", \"Nepal\": \"Kathmandu\", \"Italy\": \"Rome\", \"England\": \"London\"}`\n",
        "\n",
        "**Input**\n",
        "\n",
        "Enter a country to check: Thailand\n",
        "\n",
        "**Output**\n",
        "`True`"
      ],
      "metadata": {
        "id": "4p3-yEGTocFB"
      }
    },
    {
      "cell_type": "code",
      "source": [
        "# Write your code here\n",
        "capital_city = {\"Thailand\": \"Bangkok\", \"Nepal\": \"Kathmandu\", \"Italy\": \"Rome\", \"England\": \"London\"}\n",
        "x = input(\"Enter a country to check: \")\n",
        "if x in capital_city:\n",
        "    print(\"True\")\n",
        "else:\n",
        "    print(\"False\")\n"
      ],
      "metadata": {
        "colab": {
          "base_uri": "https://localhost:8080/"
        },
        "id": "BR1SErvLpVGQ",
        "outputId": "1e3d8cca-24ad-42c9-aa78-1d7805031240"
      },
      "execution_count": 5,
      "outputs": [
        {
          "output_type": "stream",
          "name": "stdout",
          "text": [
            "Enter a country to check: Thailand\n",
            "True\n"
          ]
        }
      ]
    },
    {
      "cell_type": "markdown",
      "source": [
        "## Question#2:\n",
        "Write a program in python to map 2 lists into a dictionary.\n",
        "\n",
        "**Hint**\n",
        "\n",
        "Given\n",
        "\n",
        "\n",
        "```\n",
        "fields = ['name', 'last_name', 'age', 'job']\n",
        "values = ['Waraporn', 'Viyanon', '20', 'Python Developer']\n",
        "```\n",
        "\n",
        "\n",
        "\n",
        "**Expected output**\n",
        "\n",
        "`{'name': 'Waraporn', 'last_name': 'Viyanon', 'age': '20', 'job': 'Python Developer'}`"
      ],
      "metadata": {
        "id": "9NMEcxfjs8mb"
      }
    },
    {
      "cell_type": "code",
      "source": [
        "# Given two list convert it into dict\n",
        "fields = ['name', 'last_name', 'age', 'job']\n",
        "values = ['Waraporn', 'Viyanon', '20', 'Python Developer']\n",
        "\n",
        "data_dict = {}\n",
        "\n",
        "for i in range(len(fields)):\n",
        "    data_dict[fields[i]] = values[i]\n",
        "\n",
        "print(data_dict)\n",
        "\n"
      ],
      "metadata": {
        "colab": {
          "base_uri": "https://localhost:8080/"
        },
        "id": "hqF3Gbc3tc4h",
        "outputId": "d4595ffd-0111-4785-98b0-922da29056ed"
      },
      "execution_count": 6,
      "outputs": [
        {
          "output_type": "stream",
          "name": "stdout",
          "text": [
            "{'name': 'Waraporn', 'last_name': 'Viyanon', 'age': '20', 'job': 'Python Developer'}\n"
          ]
        }
      ]
    },
    {
      "cell_type": "markdown",
      "source": [
        "##Question3:\n",
        "Write a program to sum all the values of a dictionary.\n",
        "\n",
        "**Hint**\n",
        "\n",
        "`dict1 = {'day1': 200, 'day2': 300}`\n",
        "\n",
        "**Expected output**\n",
        "Result: 500"
      ],
      "metadata": {
        "id": "B9AHBNo7eGP_"
      }
    },
    {
      "cell_type": "code",
      "source": [
        "# Sum of dict values\n",
        "dict1 = {'day1': 200, 'day2': 300}\n",
        "\n",
        "total = 0\n",
        "\n",
        "for value in dict1.values():\n",
        "    total += value\n",
        "\n",
        "print(total)"
      ],
      "metadata": {
        "id": "j3wz5q7NwM2T",
        "colab": {
          "base_uri": "https://localhost:8080/"
        },
        "outputId": "f0fd9a0f-9404-4ecc-b659-e3be3e8de758"
      },
      "execution_count": 8,
      "outputs": [
        {
          "output_type": "stream",
          "name": "stdout",
          "text": [
            "500\n"
          ]
        }
      ]
    },
    {
      "cell_type": "markdown",
      "source": [
        "\n",
        "\n",
        "---\n",
        "\n"
      ],
      "metadata": {
        "id": "QoD-Cyf_ezGw"
      }
    },
    {
      "cell_type": "markdown",
      "source": [
        "#Sets\n",
        "Solve only 1 python set question."
      ],
      "metadata": {
        "id": "WZ2LYDewe0up"
      }
    },
    {
      "cell_type": "markdown",
      "source": [
        "## Question\n",
        "Given two sets as follows:\n",
        "\n",
        "\n",
        "```\n",
        "# first set\n",
        "A = {1, 3, 5}\n",
        "\n",
        "# second set\n",
        "B = {0, 2, 4}\n",
        "```\n",
        "\n",
        "print the result of performing the following operation\n",
        "\n",
        "*   union operation using |\n",
        "*   union operation using union()\n",
        "* intersection operation using &\n",
        "* intersection operation using intersection()\n",
        "\n"
      ],
      "metadata": {
        "id": "F2ebClvZgpZl"
      }
    },
    {
      "cell_type": "code",
      "source": [
        "# first set\n",
        "A = {1, 3, 5}\n",
        "\n",
        "# second set\n",
        "B = {0, 2, 4}\n",
        "\n",
        "\n",
        "# perform union operation using |\n",
        "print(\"union operation using | :\", A | B)\n",
        "\n",
        "# perform union operation using union()\n",
        "print(\"union operation using union() :\", A.union(B))\n",
        "\n",
        "# perform intersection operation using &\n",
        "print(\"intersection operation using & :\", A & B)\n",
        "\n",
        "# perform intersection operation using intersection()\n",
        "print(\"intersection operation using intersection() :\", A.intersection(B))"
      ],
      "metadata": {
        "id": "k5OqM-DWex5h",
        "colab": {
          "base_uri": "https://localhost:8080/"
        },
        "outputId": "14e68f2d-95bc-4748-ed25-6b9f16640ac7"
      },
      "execution_count": 9,
      "outputs": [
        {
          "output_type": "stream",
          "name": "stdout",
          "text": [
            "union operation using | : {0, 1, 2, 3, 4, 5}\n",
            "union operation using union() : {0, 1, 2, 3, 4, 5}\n",
            "intersection operation using & : set()\n",
            "intersection operation using intersection() : set()\n"
          ]
        }
      ]
    }
  ]
}