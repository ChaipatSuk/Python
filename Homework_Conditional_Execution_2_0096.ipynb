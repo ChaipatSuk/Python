{
  "nbformat": 4,
  "nbformat_minor": 0,
  "metadata": {
    "colab": {
      "provenance": []
    },
    "kernelspec": {
      "name": "python3",
      "display_name": "Python 3"
    },
    "language_info": {
      "name": "python"
    }
  },
  "cells": [
    {
      "cell_type": "code",
      "execution_count": 4,
      "metadata": {
        "colab": {
          "base_uri": "https://localhost:8080/"
        },
        "id": "_j4qaXKigtYe",
        "outputId": "5df59ddf-794e-4bb7-c42f-0074e267be07"
      },
      "outputs": [
        {
          "output_type": "stream",
          "name": "stdout",
          "text": [
            "Enter your income information (Baht): 270000\n",
            "Your tax amount is 40500.0 Baht\n"
          ]
        }
      ],
      "source": [
        "income = float(input(\"Enter your income information (Baht): \"))\n",
        "\n",
        "\n",
        "if income <= 150000:\n",
        "    tax = 0\n",
        "    tax_message = \"No need to pay tax\"\n",
        "elif 150001 <= income <= 250000:\n",
        "    tax = income * 0.10\n",
        "    tax_message = f\"Your tax amount is {tax} Baht\"\n",
        "else:\n",
        "    tax = income * 0.15\n",
        "    tax_message = f\"Your tax amount is {tax} Baht\"\n",
        "\n",
        "\n",
        "print(tax_message)\n"
      ]
    }
  ]
}