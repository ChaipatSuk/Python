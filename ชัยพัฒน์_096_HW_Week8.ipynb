{
  "nbformat": 4,
  "nbformat_minor": 0,
  "metadata": {
    "colab": {
      "provenance": []
    },
    "kernelspec": {
      "name": "python3",
      "display_name": "Python 3"
    },
    "language_info": {
      "name": "python"
    }
  },
  "cells": [
    {
      "cell_type": "markdown",
      "source": [
        "นายชัยพัฒน์ สุขบุญลือ 64109010096 HW_8"
      ],
      "metadata": {
        "id": "pDfg_d2nJR9Y"
      }
    },
    {
      "cell_type": "code",
      "execution_count": 5,
      "metadata": {
        "colab": {
          "base_uri": "https://localhost:8080/"
        },
        "id": "DQ_RnBoTZI3-",
        "outputId": "24f8dfdc-9d1d-4682-9c91-fa5415e79d87"
      },
      "outputs": [
        {
          "output_type": "stream",
          "name": "stdout",
          "text": [
            "Shape of a25: (5, 5)\n",
            "Sum of each (row) of a25: [ 15  40  65  90 115]\n",
            "Sum of each column of a25: [55 60 65 70 75]\n"
          ]
        }
      ],
      "source": [
        "import numpy as np\n",
        "\n",
        "a25 = np.arange(1, 26).reshape(5, 5)\n",
        "\n",
        "shape_a25 = a25.shape\n",
        "print(\"Shape of a25:\", shape_a25)\n",
        "\n",
        "row_sums = a25.sum(axis=1)\n",
        "print(\"Sum of each (row) of a25:\", row_sums)\n",
        "\n",
        "column_sums = a25.sum(axis=0)\n",
        "print(\"Sum of each column of a25:\", column_sums)\n"
      ]
    },
    {
      "cell_type": "code",
      "source": [
        "import numpy as np\n",
        "\n",
        "list1 = list(range(1, 6))\n",
        "list2 = list(range(6, 11))\n",
        "list3 = list(range(11, 16))\n",
        "a15 = np.array([list1, list2, list3])\n",
        "\n",
        "shape_a15 = a15.shape\n",
        "print(\"Shape of a15:\", shape_a15)\n",
        "\n",
        "total_sum = a15.sum()\n",
        "print(\"Sum of each element of a15:\", total_sum)\n",
        "\n",
        "mean_value = a15.mean()\n",
        "print(\"Average of all element of a15:\", mean_value)\n"
      ],
      "metadata": {
        "colab": {
          "base_uri": "https://localhost:8080/"
        },
        "id": "FNYs-OyxJf8P",
        "outputId": "3f187124-a87d-4853-9e74-80949915ca63"
      },
      "execution_count": 7,
      "outputs": [
        {
          "output_type": "stream",
          "name": "stdout",
          "text": [
            "Shape of a15: (3, 5)\n",
            "Sum of each element of a15: 120\n",
            "Average of all element of a15: 8.0\n"
          ]
        }
      ]
    }
  ]
}