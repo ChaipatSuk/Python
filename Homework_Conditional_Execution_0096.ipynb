{
  "nbformat": 4,
  "nbformat_minor": 0,
  "metadata": {
    "colab": {
      "provenance": []
    },
    "kernelspec": {
      "name": "python3",
      "display_name": "Python 3"
    },
    "language_info": {
      "name": "python"
    }
  },
  "cells": [
    {
      "cell_type": "code",
      "execution_count": 3,
      "metadata": {
        "colab": {
          "base_uri": "https://localhost:8080/"
        },
        "id": "3B0KzUMdeMq-",
        "outputId": "a7955b9d-9978-447e-915a-031d2f5696d3"
      },
      "outputs": [
        {
          "output_type": "stream",
          "name": "stdout",
          "text": [
            "Input: 2\n",
            "Output:This is an even number.\n",
            "Input: 5\n",
            "Output:This is an odd number.\n",
            "Input: 0\n",
            "End of Program\n"
          ]
        }
      ],
      "source": [
        "while True:\n",
        "    number = int(input(\"Input: \"))\n",
        "\n",
        "    if number == 0:\n",
        "        print(\"End of Program\")\n",
        "        break\n",
        "\n",
        "    if number % 2 == 0:\n",
        "        print(f\"Output:This is an even number.\")\n",
        "    else:\n",
        "        print(f\"Output:This is an odd number.\")\n"
      ]
    }
  ]
}